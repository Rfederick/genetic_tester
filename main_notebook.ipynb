{
 "cells": [
  {
   "cell_type": "markdown",
   "id": "29d3cb44-ad9d-4cba-b68f-bb5b8ac402be",
   "metadata": {},
   "source": [
    "# Imports"
   ]
  },
  {
   "cell_type": "code",
   "execution_count": null,
   "id": "86b475d9-a494-47b7-962c-f79ae2a3eadc",
   "metadata": {},
   "outputs": [],
   "source": [
    "import numpy as np\n",
    "import numba\n",
    "import random\n",
    "import networkx as nx\n",
    "from dill import dump, load\n",
    "import os"
   ]
  },
  {
   "cell_type": "markdown",
   "id": "335a7273-281e-429e-85b2-35d72e270150",
   "metadata": {},
   "source": [
    "# Function Definitions"
   ]
  },
  {
   "cell_type": "markdown",
   "id": "4035a064-7cb9-4c28-b844-688240a7d2b3",
   "metadata": {},
   "source": [
    "## Get DiGraph Origin"
   ]
  },
  {
   "cell_type": "code",
   "execution_count": null,
   "id": "375206f3-7bc3-4bd1-b16f-b939c9a23d1e",
   "metadata": {},
   "outputs": [],
   "source": [
    "def get_origins(network):\n",
    "    \"\"\"Get the original nodes with no predecessors\"\"\"\n",
    "    origins = []\n",
    "    for node in network.nodes:\n",
    "        if len(network.predecessors(node)) == 0:\n",
    "            origins.append(node)\n",
    "\n",
    "    return origins"
   ]
  },
  {
   "cell_type": "markdown",
   "id": "6d65ab74-4b41-4e56-bfc2-3f6ffe22bfc1",
   "metadata": {},
   "source": [
    "Introduction: We made a genetic probability predictor that uses punnet square math to predict a user's own or children's probability of having a certain disease or disorder. We use a family tree for the user to put in any information they have on phenotypes or genotypes of the disease they are testing for. We are using how certain diseases are genetically inherited to "
   ]
  },
  {
   "cell_type": "markdown",
   "id": "9680aae8-fd37-4e1d-a7f6-d87c69acdcd2",
   "metadata": {},
   "source": [
    "## Get DiGraph End"
   ]
  },
  {
   "cell_type": "code",
   "execution_count": null,
   "id": "fe2c0ddd-7d0b-4688-9225-fd478f63b420",
   "metadata": {},
   "outputs": [],
   "source": [
    "def get_ends(network):\n",
    "    \"\"\"Get the ending nodes with no successors\"\"\"\n",
    "    ends = []\n",
    "    for node in network.nodes:\n",
    "        if len(network.successors(node)) == 0:\n",
    "            ends.append(node)\n",
    "\n",
    "    return ends"
   ]
  },
  {
   "cell_type": "markdown",
   "id": "bdf0eb61-17de-4d2f-8df3-be694b92c1b8",
   "metadata": {},
   "source": [
    "# Class Definitions"
   ]
  },
  {
   "cell_type": "markdown",
   "id": "2dbb33b2-b302-4ad7-8ad4-5fcdac53d816",
   "metadata": {},
   "source": [
    "## Person\n",
    "possibly unused"
   ]
  },
  {
   "cell_type": "code",
   "execution_count": null,
   "id": "4562786d-3c99-4467-a683-ac514acc6a02",
   "metadata": {},
   "outputs": [],
   "source": [
    "class Person():\n",
    "    \"\"\"A class to hold information on a person\"\"\"\n",
    "    def __init__(self, phenotype, name, tree, genotype=\"\", parents=[], children=[], **kwargs):\n",
    "        self.phenotype = phenotype\n",
    "        self.tree = tree\n",
    "        self.genotype = genotype\n",
    "        self.name = name\n",
    "        self.parents = parents\n",
    "        self.children = children\n",
    "        self.extras = kwargs\n",
    "\n",
    "    def set_phenotype(self, new_phenotype):\n",
    "        self.phenotype = new_phenotype\n",
    "\n",
    "    def set_genotype(self, new_genotype):\n",
    "        self.genotype = new_genotype\n",
    "\n",
    "    def get_name(self):\n",
    "        return self.name\n",
    "\n",
    "    def get_tree(self):\n",
    "        return self.tree\n",
    "\n",
    "    def get_genotype(self):\n",
    "        return self.genotype\n",
    "\n",
    "    def get_phenotype(self):\n",
    "        return self.phenotype\n",
    "\n",
    "    def get_children(self):\n",
    "        return self.children\n",
    "\n",
    "    def get_parents(self):\n",
    "        return self.parents"
   ]
  },
  {
   "cell_type": "markdown",
   "id": "de23dbc5-bfdc-4c3e-83b2-a4e38f4809c6",
   "metadata": {},
   "source": [
    "## Family Subunit"
   ]
  },
  {
   "cell_type": "code",
   "execution_count": null,
   "id": "a7c76e9a-08b2-42a0-a334-c2102657c296",
   "metadata": {},
   "outputs": [],
   "source": [
    "class FamilySubunit():\n",
    "    def __init__(self, sub_network):\n",
    "        pass"
   ]
  },
  {
   "cell_type": "markdown",
   "id": "210237bb-a864-460d-b527-51c86a6342ba",
   "metadata": {},
   "source": [
    "## Family Tree"
   ]
  },
  {
   "cell_type": "code",
   "execution_count": null,
   "id": "75b29bf0-288f-4a84-95e1-90a2c87345c8",
   "metadata": {},
   "outputs": [],
   "source": [
    "class FamilyTree():\n",
    "    \"\"\"A class to store the people in a family tree\n",
    "       and the relationships between them. Also has\n",
    "       methods to update the relationships.\"\"\"\n",
    "    def __init__(self, disease, people={}):\n",
    "        self.graph = nx.DiGraph()\n",
    "        self.disease = disease\n",
    "\n",
    "        if len(people) != 0:\n",
    "            for name, extras in people.items():\n",
    "                pheno = extras['phenotype']\n",
    "                geno = extras['genotype'] if 'genotype' in extras.keys() else None\n",
    "                parents = extras['parents'] if 'parents' in extras.keys() else []\n",
    "                children = extras['children'] if 'children' in extras.keys() else []\n",
    "            \n",
    "                self.add_person(pheno, geno, name, parents, children)\n",
    "\n",
    "            self.update_probs()\n",
    "\n",
    "\n",
    "    def add_person(self, phenotype, genotype=None, name=None, parents=[], children=[], **kwargs):\n",
    "        \"\"\"Adds a person to the family tree network graph\"\"\"\n",
    "\n",
    "        # Makes the name of the person just a number if no name is provided\n",
    "        if not name:\n",
    "            # Determines what number person the new one is\n",
    "            num = 0\n",
    "            for node in self.graph.nodes:\n",
    "                try:\n",
    "                    val = int(node)\n",
    "                except ValueError:\n",
    "                    pass\n",
    "                else:\n",
    "                    num += 1\n",
    "\n",
    "            name = str(num)\n",
    "\n",
    "        if not genotype:\n",
    "            genotype = disease.initial(phenotype)\n",
    "\n",
    "        kwargs['phenotype'] = phenotype\n",
    "        kwargs['genotype'] = genotype\n",
    "\n",
    "        # Adds person to the graph and passes on any kwargs\n",
    "        self.graph.add_nodes_from([(name, kwargs)])\n",
    "\n",
    "        if len(parents)+len(children) > 0:\n",
    "            # Add parents and children\n",
    "            for parent in parents:\n",
    "                self.graph.add_edge(parent, name)\n",
    "\n",
    "            for child in children:\n",
    "                self.graph.add_edge(name, child)\n",
    "                \n",
    "            self.update_probs()\n",
    "\n",
    "    def add_relationship(self, parent, child):\n",
    "        \"\"\"Connects two people on the graph\"\"\"\n",
    "        self.graph.add_edge(parent, child)\n",
    "        self.update_probs()\n",
    "\n",
    "    def remove_person(self, person):\n",
    "        \"\"\"Removes a person from the graph and updates\n",
    "           the numbering of people in the graph\"\"\"\n",
    "        self.graph.remove_node(person)\n",
    "\n",
    "        try:\n",
    "            val = int(person)\n",
    "        except ValueError:\n",
    "            pass\n",
    "        else:\n",
    "            # Counter to store how many unnamed people exist in the tree\n",
    "            counter = 0\n",
    "            # Loop through the nodes in the network to update\n",
    "            for node in list(self.graph.nodes):\n",
    "                try:\n",
    "                    # Check if node was given a number for a name\n",
    "                    val = int(node)\n",
    "                except ValueError:\n",
    "                    # If it was given an actual name move on\n",
    "                    pass\n",
    "                else:\n",
    "                    new_name = str(counter)\n",
    "\n",
    "                    # Grab the info attributed to the node\n",
    "                    node_info = self.graph.nodes[node]\n",
    "\n",
    "                    # Get the predecessors and successors of the node\n",
    "                    sucs = self.graph.successors(node)\n",
    "                    pres = self.graph.predecessors(node)\n",
    "\n",
    "                    # Remove the old node and create a new one with an updated number\n",
    "                    self.graph.remove_node(node)\n",
    "                    self.graph.add_nodes_from([(new_name, node_info)])\n",
    "\n",
    "                    # Re-add connections\n",
    "                    for pre in pres:\n",
    "                        self.graph.add_edge(pre, new_name)\n",
    "\n",
    "                    for suc in sucs:\n",
    "                        self.graph.add_edge(new_name, suc)\n",
    "\n",
    "                    # Increment the counter\n",
    "                    counter += 1\n",
    "\n",
    "        self.update_probs()\n",
    "\n",
    "    def get_person_info(self, person, information):\n",
    "        \"\"\"Get given information from a person in the graph\"\"\"\n",
    "        output = {}\n",
    "        for info in information:\n",
    "            output[info] = self.graph.nodes[person][info]\n",
    "\n",
    "        return output\n",
    "\n",
    "    def save_tree(self, path):\n",
    "        with open(path) as file:\n",
    "            dump(self, file)\n",
    "\n",
    "    def get_subunit(self, parent):\n",
    "        \"\"\"Gets the family unit of a person assuming they are a parent\"\"\"\n",
    "        parents = [parent]\n",
    "        children = list(self.graph[parent].keys())\n",
    "        for child in children:\n",
    "            for pred in self.graph.predecessors(child):\n",
    "                if pred not in parents:\n",
    "                    parents.append(pred)\n",
    "\n",
    "        return nx.subgraph(self.graph, parents + children)\n",
    "\n",
    "    def update_probs(self):\n",
    "        pass"
   ]
  },
  {
   "cell_type": "markdown",
   "id": "1380b976-6cc1-43d0-a78a-5ddabb6a6d40",
   "metadata": {},
   "source": [
    "# Jon's Code"
   ]
  },
  {
   "cell_type": "code",
   "execution_count": null,
   "id": "52f329b9-e7c8-49e6-96c1-a707523101af",
   "metadata": {},
   "outputs": [],
   "source": [
    "def xlinked(father, mother, child):\n",
    "    \"\"\"\" X is healthy, x is unhealthy, number is percent infected\"\"\"\"\"\n",
    "    if child == \"M\":\n",
    "        if father == \"XY\" or father ==\"xY\":\n",
    "            if mother == \"xx\":\n",
    "                return 1\n",
    "            if mother == \"Xx\" or mother == \"xX\":\n",
    "                return .5\n",
    "            if mother == \"XX\":\n",
    "                return 0\n",
    "    else:\n",
    "        if father == \"xY\":\n",
    "            #all female children carriers\n",
    "            if mother == \"xx\":\n",
    "                return 1\n",
    "            if mother == \"XX\":\n",
    "                # child is carrier 1\n",
    "                return 0\n",
    "            if mother == \"Xx\" or mother == \"xX\":\n",
    "                # child is carrier .75\n",
    "                return .5\n",
    "        else:\n",
    "            if mother == \"xx\":\n",
    "                # all children carriers\n",
    "                return 0\n",
    "            if mother == \"Xx\" or mother == \"xX\":\n",
    "                # half of Daughter carriers\n",
    "                return 0\n",
    "            if mother == \"XX\":\n",
    "                return 0"
   ]
  },
  {
   "cell_type": "markdown",
   "id": "a8eef138-2af0-4f6f-9af0-0fafe8e3a39e",
   "metadata": {},
   "source": [
    "# Remi's Code"
   ]
  },
  {
   "cell_type": "code",
   "execution_count": null,
   "id": "a0c2a59d-3ef4-4e11-a661-dd34c9717015",
   "metadata": {},
   "outputs": [],
   "source": [
    "def recessive(parent1, parent2):\n",
    "    '''calculates likelihood of having disease that is autosomal recessive'''\n",
    "    #give parent one's probability contribution\n",
    "    if parent1 == \"HH\":\n",
    "        num1 = 0\n",
    "    elif parent1 == \"Hh\":\n",
    "        num1 = 0.5\n",
    "    elif parent1 == \"hh\":\n",
    "        num1 = 1\n",
    "    \n",
    "    if parent2 == \"HH\":\n",
    "        num2 = 0\n",
    "    elif parent2== \"Hh\":\n",
    "        num2 = 0.5\n",
    "    elif parent2 == \"hh\":\n",
    "        num2 = 1\n",
    "        \n",
    "    return (num1 * num2)"
   ]
  },
  {
   "cell_type": "code",
   "execution_count": null,
   "id": "2357280c-7cd2-4aa3-8052-b465f82f44b0",
   "metadata": {},
   "outputs": [],
   "source": [
    "def dominant(parent1, parent2):\n",
    "    \n",
    "    return 1 - recessive(parent1, parent2)"
   ]
  },
  {
   "cell_type": "code",
   "execution_count": null,
   "id": "e0eea861-5034-445d-b0fd-8968726d8111",
   "metadata": {},
   "outputs": [],
   "source": [
    "def codominant(parent1, parent2):\n",
    "    '''calculates likelihood of having disease that is autosomal codominant'''\n",
    "    #give parent one's probability contribution\n",
    "    if parent1 == \"HH\":\n",
    "        numH = 1\n",
    "        numh = 0\n",
    "    elif parent1 == \"Hh\":\n",
    "        numH = 0.5\n",
    "        numh = 0.5\n",
    "    elif parent1 == \"hh\":\n",
    "        numH = 0\n",
    "        numh = 1\n",
    "    \n",
    "    if parent2 == \"HH\":\n",
    "        num2_H = 1\n",
    "        num2_h = 0\n",
    "    elif parent2== \"Hh\":\n",
    "        num2_H = 0.5\n",
    "        num2_h = 0.5\n",
    "    elif parent2 == \"hh\":\n",
    "        num2_H = 0\n",
    "        num2_h = 1\n",
    "        \n",
    "    return (numH * num2_H, (numH * num2_h) + (numh * num2_H), numh * num2_h)"
   ]
  },
  {
   "cell_type": "code",
   "execution_count": null,
   "id": "6c58f474-350b-4b25-833a-ceceb7ab9162",
   "metadata": {},
   "outputs": [],
   "source": [
    "codominant(\"Hh\", \"Hh\")"
   ]
  },
  {
   "cell_type": "markdown",
   "id": "cc2c0881-a333-44a6-98ac-587787d398ab",
   "metadata": {},
   "source": [
    "## Base Inheritance Modes"
   ]
  },
  {
   "cell_type": "code",
   "execution_count": null,
   "id": "7848c5a2-55a3-46c6-80f4-76e11d6c2ef7",
   "metadata": {},
   "outputs": [],
   "source": []
  },
  {
   "cell_type": "markdown",
   "id": "89d0d05f-4803-4747-aafd-7cb18433ca76",
   "metadata": {},
   "source": [
    "## Specific Diseases"
   ]
  },
  {
   "cell_type": "code",
   "execution_count": null,
   "id": "86f97073-aa09-4e93-b885-362581640a97",
   "metadata": {},
   "outputs": [],
   "source": []
  },
  {
   "cell_type": "markdown",
   "id": "2a41392c-fe90-453a-85ee-f01fc6bfd037",
   "metadata": {},
   "source": [
    "# Main Code"
   ]
  },
  {
   "cell_type": "code",
   "execution_count": null,
   "id": "c7c597f6-c565-4503-aafb-c4d07cc19677",
   "metadata": {},
   "outputs": [],
   "source": []
  }
 ],
 "metadata": {
  "kernelspec": {
   "display_name": "Python 3 (ipykernel)",
   "language": "python",
   "name": "python3"
  },
  "language_info": {
   "codemirror_mode": {
    "name": "ipython",
    "version": 3
   },
   "file_extension": ".py",
   "mimetype": "text/x-python",
   "name": "python",
   "nbconvert_exporter": "python",
   "pygments_lexer": "ipython3",
   "version": "3.11.7"
  }
 },
 "nbformat": 4,
 "nbformat_minor": 5
}
